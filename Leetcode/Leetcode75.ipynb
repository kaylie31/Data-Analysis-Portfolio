{
 "cells": [
  {
   "cell_type": "markdown",
   "metadata": {},
   "source": [
    "# 1. Two sum"
   ]
  },
  {
   "cell_type": "code",
   "execution_count": 6,
   "metadata": {},
   "outputs": [
    {
     "name": "stdout",
     "output_type": "stream",
     "text": [
      "[0, 1]\n"
     ]
    }
   ],
   "source": [
    "from typing import List\n",
    "\n",
    "nums = [2,7,11,15]\n",
    "target = 9\n",
    "\n",
    "class Solution: \n",
    "    def twoSum(self, nums: List[int], target:int) -> List[int]:\n",
    "        h = {} # hash map creation, initializing an empty dictionary 'h'\n",
    "        for i in range(len(nums)):\n",
    "            h[nums[i]] = i # key is nums and value is its index\n",
    "\n",
    "        for i in range(len(nums)):\n",
    "            y = target - nums[i] # y is the number that satisfies two sum\n",
    "\n",
    "            if y in h and h[y] != i: # if y in h and the index of y is not i to avoid using the same element twice\n",
    "                return [i, h[y]]\n",
    "            \n",
    "# Create an instance of the Solution class\n",
    "solution = Solution()\n",
    "# Call the twoSum method and print the result\n",
    "print(solution.twoSum(nums, target))"
   ]
  },
  {
   "cell_type": "code",
   "execution_count": null,
   "metadata": {},
   "outputs": [],
   "source": []
  }
 ],
 "metadata": {
  "kernelspec": {
   "display_name": "Python 3",
   "language": "python",
   "name": "python3"
  },
  "language_info": {
   "codemirror_mode": {
    "name": "ipython",
    "version": 3
   },
   "file_extension": ".py",
   "mimetype": "text/x-python",
   "name": "python",
   "nbconvert_exporter": "python",
   "pygments_lexer": "ipython3",
   "version": "3.11.5"
  }
 },
 "nbformat": 4,
 "nbformat_minor": 2
}
