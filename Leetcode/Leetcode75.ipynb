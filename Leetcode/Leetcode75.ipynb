{
 "cells": [
  {
   "cell_type": "markdown",
   "metadata": {},
   "source": [
    "# 1. Two sum"
   ]
  },
  {
   "cell_type": "code",
   "execution_count": 25,
   "metadata": {},
   "outputs": [
    {
     "name": "stdout",
     "output_type": "stream",
     "text": [
      "[1, 0]\n"
     ]
    }
   ],
   "source": [
    "from typing import List\n",
    "\n",
    "nums = [2,7,11,15]\n",
    "target = 9\n",
    "\n",
    "class Solution: \n",
    "    def twoSum(self, nums: List[int], target:int) -> List[int]:\n",
    "        h = {} # hash map creation, initializing an empty dictionary 'h'\n",
    "        for i, val in enumerate(nums):\n",
    "            h[val] = i # key is nums and value is its index\n",
    "            y = target - val # y is the number that satisfies two sum\n",
    "\n",
    "            if y in h and h[y] != i: # if y in h and the index of y is not i to avoid using the same element twice\n",
    "                return [i, h[y]]\n",
    "            \n",
    "# Create an instance of the Solution class\n",
    "solution = Solution()\n",
    "# Call the twoSum method and print the result\n",
    "print(solution.twoSum(nums, target))"
   ]
  },
  {
   "cell_type": "code",
   "execution_count": 23,
   "metadata": {},
   "outputs": [
    {
     "name": "stdout",
     "output_type": "stream",
     "text": [
      "[0, 3]\n"
     ]
    }
   ],
   "source": [
    "# method 2\n",
    "class Solution:\n",
    "    def twoSum(self, nums, target):\n",
    "            numsList = {}\n",
    "            for i,n in enumerate(nums):\n",
    "                diff = target-n\n",
    "                if diff in numsList:\n",
    "                    return [numsList[diff], i]\n",
    "                else:\n",
    "                    numsList[n] = i\n",
    "\n",
    "target = 4\n",
    "nums =[3, 2, 5, 1]\n",
    "\n",
    "solution = Solution()\n",
    "\n",
    "print(solution.twoSum(nums, target))"
   ]
  },
  {
   "cell_type": "markdown",
   "metadata": {},
   "source": [
    "# Merge alternatively"
   ]
  },
  {
   "cell_type": "code",
   "execution_count": 21,
   "metadata": {},
   "outputs": [
    {
     "name": "stdout",
     "output_type": "stream",
     "text": [
      "apbqrs\n"
     ]
    }
   ],
   "source": [
    "word1 = 'ab'\n",
    "word2 = 'pqrs'\n",
    "\n",
    "class Solution:\n",
    "    def mergeAlternately(self, word1: str, word2: str) -> str:\n",
    "        result = ''\n",
    "        for l1, l2 in zip(word1, word2):\n",
    "            result += l1 + l2\n",
    "\n",
    "        diff = len(word1)-len(word2)\n",
    "        if diff > 0:\n",
    "            result += word1[-diff:]\n",
    "        if diff <0:\n",
    "            result += word2[diff:]\n",
    "\n",
    "        return result\n",
    "\n",
    "# Create an instance of the Solution class\n",
    "solution = Solution()\n",
    "# Call the mergeAlternately method and print the result\n",
    "print(solution.mergeAlternately(word1, word2))  # Output should be \"apbqrs\""
   ]
  },
  {
   "cell_type": "markdown",
   "metadata": {},
   "source": [
    "Learning points:\n",
    "- zip(): iterate through each index of word1 and word2\n",
    "- using diff to solve the difference in length"
   ]
  },
  {
   "cell_type": "code",
   "execution_count": null,
   "metadata": {},
   "outputs": [],
   "source": []
  }
 ],
 "metadata": {
  "kernelspec": {
   "display_name": "Python 3",
   "language": "python",
   "name": "python3"
  },
  "language_info": {
   "codemirror_mode": {
    "name": "ipython",
    "version": 3
   },
   "file_extension": ".py",
   "mimetype": "text/x-python",
   "name": "python",
   "nbconvert_exporter": "python",
   "pygments_lexer": "ipython3",
   "version": "3.11.5"
  }
 },
 "nbformat": 4,
 "nbformat_minor": 2
}
