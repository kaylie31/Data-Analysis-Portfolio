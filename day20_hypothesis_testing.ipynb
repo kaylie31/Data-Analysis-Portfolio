{
  "cells": [
    {
      "cell_type": "markdown",
      "metadata": {
        "id": "kvAwBZ8nuk1v"
      },
      "source": [
        "# Phân tích dữ liệu trên bộ dữ liệu FoodPrice in Turkey"
      ]
    },
    {
      "cell_type": "code",
      "execution_count": 1,
      "metadata": {
        "id": "md1VyhN0AmbX"
      },
      "outputs": [],
      "source": [
        "import pandas as pd\n",
        "from scipy import stats\n",
        "import matplotlib.pyplot as plt"
      ]
    },
    {
      "cell_type": "code",
      "execution_count": 2,
      "metadata": {
        "colab": {
          "base_uri": "https://localhost:8080/",
          "height": 206
        },
        "id": "Srsd0saxurlV",
        "outputId": "012b918d-4b5c-4057-c475-ff934aad9546"
      },
      "outputs": [
        {
          "data": {
            "text/html": [
              "<div>\n",
              "<style scoped>\n",
              "    .dataframe tbody tr th:only-of-type {\n",
              "        vertical-align: middle;\n",
              "    }\n",
              "\n",
              "    .dataframe tbody tr th {\n",
              "        vertical-align: top;\n",
              "    }\n",
              "\n",
              "    .dataframe thead th {\n",
              "        text-align: right;\n",
              "    }\n",
              "</style>\n",
              "<table border=\"1\" class=\"dataframe\">\n",
              "  <thead>\n",
              "    <tr style=\"text-align: right;\">\n",
              "      <th></th>\n",
              "      <th>Place</th>\n",
              "      <th>ProductId</th>\n",
              "      <th>ProductName</th>\n",
              "      <th>UmId</th>\n",
              "      <th>UmName</th>\n",
              "      <th>Month</th>\n",
              "      <th>Year</th>\n",
              "      <th>Price</th>\n",
              "    </tr>\n",
              "  </thead>\n",
              "  <tbody>\n",
              "    <tr>\n",
              "      <th>0</th>\n",
              "      <td>National Average</td>\n",
              "      <td>52</td>\n",
              "      <td>Rice - Retail</td>\n",
              "      <td>5</td>\n",
              "      <td>KG</td>\n",
              "      <td>5</td>\n",
              "      <td>2013</td>\n",
              "      <td>4.4920</td>\n",
              "    </tr>\n",
              "    <tr>\n",
              "      <th>1</th>\n",
              "      <td>National Average</td>\n",
              "      <td>52</td>\n",
              "      <td>Rice - Retail</td>\n",
              "      <td>5</td>\n",
              "      <td>KG</td>\n",
              "      <td>6</td>\n",
              "      <td>2013</td>\n",
              "      <td>4.5786</td>\n",
              "    </tr>\n",
              "    <tr>\n",
              "      <th>2</th>\n",
              "      <td>National Average</td>\n",
              "      <td>52</td>\n",
              "      <td>Rice - Retail</td>\n",
              "      <td>5</td>\n",
              "      <td>KG</td>\n",
              "      <td>11</td>\n",
              "      <td>2013</td>\n",
              "      <td>4.7865</td>\n",
              "    </tr>\n",
              "    <tr>\n",
              "      <th>3</th>\n",
              "      <td>National Average</td>\n",
              "      <td>52</td>\n",
              "      <td>Rice - Retail</td>\n",
              "      <td>5</td>\n",
              "      <td>KG</td>\n",
              "      <td>12</td>\n",
              "      <td>2013</td>\n",
              "      <td>5.1337</td>\n",
              "    </tr>\n",
              "    <tr>\n",
              "      <th>4</th>\n",
              "      <td>National Average</td>\n",
              "      <td>52</td>\n",
              "      <td>Rice - Retail</td>\n",
              "      <td>5</td>\n",
              "      <td>KG</td>\n",
              "      <td>1</td>\n",
              "      <td>2014</td>\n",
              "      <td>5.5099</td>\n",
              "    </tr>\n",
              "  </tbody>\n",
              "</table>\n",
              "</div>"
            ],
            "text/plain": [
              "              Place  ProductId    ProductName  UmId UmName  Month  Year  \\\n",
              "0  National Average         52  Rice - Retail     5     KG      5  2013   \n",
              "1  National Average         52  Rice - Retail     5     KG      6  2013   \n",
              "2  National Average         52  Rice - Retail     5     KG     11  2013   \n",
              "3  National Average         52  Rice - Retail     5     KG     12  2013   \n",
              "4  National Average         52  Rice - Retail     5     KG      1  2014   \n",
              "\n",
              "    Price  \n",
              "0  4.4920  \n",
              "1  4.5786  \n",
              "2  4.7865  \n",
              "3  5.1337  \n",
              "4  5.5099  "
            ]
          },
          "execution_count": 2,
          "metadata": {},
          "output_type": "execute_result"
        }
      ],
      "source": [
        "df = pd.read_csv(\"FoodPrice_in_Turkey.csv\")\n",
        "df.head()\n"
      ]
    },
    {
      "cell_type": "markdown",
      "metadata": {
        "id": "0vz04ldPu3-f"
      },
      "source": [
        "Với mức ý nghĩa 5%, hãy kiểm định giả thuyết: giá bán lẻ gạo trung bình năm 2019 là 9.5 (Lira)/1 kg.\n",
        "\n",
        "Lưu ý: Lira là đơn vị tiền tệ ở Turkey (1 usd ~ 8-9 Lira)"
      ]
    },
    {
      "cell_type": "code",
      "execution_count": 3,
      "metadata": {
        "id": "4pyHHFp2u2EB"
      },
      "outputs": [],
      "source": [
        "# ngưỡng của p_value = 0.05\n",
        "# giá (Price) gạo (ProductName - \"Rice-Retail\") năm (\"Year\") 2019"
      ]
    },
    {
      "cell_type": "code",
      "execution_count": 4,
      "metadata": {
        "colab": {
          "base_uri": "https://localhost:8080/"
        },
        "id": "bGrf0ygtwxH7",
        "outputId": "68c1d154-9d9a-4816-9019-9f9fda8cc0f6"
      },
      "outputs": [
        {
          "name": "stdout",
          "output_type": "stream",
          "text": [
            "<class 'pandas.core.frame.DataFrame'>\n",
            "RangeIndex: 7381 entries, 0 to 7380\n",
            "Data columns (total 8 columns):\n",
            " #   Column       Non-Null Count  Dtype  \n",
            "---  ------       --------------  -----  \n",
            " 0   Place        7381 non-null   object \n",
            " 1   ProductId    7381 non-null   int64  \n",
            " 2   ProductName  7381 non-null   object \n",
            " 3   UmId         7381 non-null   int64  \n",
            " 4   UmName       7381 non-null   object \n",
            " 5   Month        7381 non-null   int64  \n",
            " 6   Year         7381 non-null   int64  \n",
            " 7   Price        7381 non-null   float64\n",
            "dtypes: float64(1), int64(4), object(3)\n",
            "memory usage: 461.4+ KB\n"
          ]
        }
      ],
      "source": [
        "df.info()"
      ]
    },
    {
      "cell_type": "code",
      "execution_count": 5,
      "metadata": {
        "colab": {
          "base_uri": "https://localhost:8080/"
        },
        "id": "gjmZDObivYsg",
        "outputId": "36136687-83cd-4856-cc6e-3c36b7433e3e"
      },
      "outputs": [
        {
          "data": {
            "text/plain": [
              "54       8.4275\n",
              "55       8.7656\n",
              "56       8.8101\n",
              "57       8.9266\n",
              "58       9.1866\n",
              "59       9.2781\n",
              "60       9.4634\n",
              "61       9.4681\n",
              "62       9.5000\n",
              "63       9.4346\n",
              "64       9.4267\n",
              "65       9.5616\n",
              "2657     8.0617\n",
              "2658     8.4047\n",
              "2659     8.4525\n",
              "2660     8.4833\n",
              "2661     8.5930\n",
              "2662     8.6665\n",
              "2663     8.8262\n",
              "2664     8.5789\n",
              "2665     8.6018\n",
              "2666     8.5373\n",
              "2667     8.6074\n",
              "2668     8.9477\n",
              "4239     8.8745\n",
              "4240     9.2860\n",
              "4241     9.3131\n",
              "4242     9.3970\n",
              "4243     9.7617\n",
              "4244     9.8176\n",
              "4245    10.1121\n",
              "4246    10.1093\n",
              "4247    10.1809\n",
              "4248    10.1348\n",
              "4249    10.1288\n",
              "4250    10.2924\n",
              "5822     9.1330\n",
              "5823     9.4793\n",
              "5824     9.5203\n",
              "5825     9.7229\n",
              "5826    10.0941\n",
              "5827    10.2523\n",
              "5828    10.3485\n",
              "5829    10.3386\n",
              "5830    10.4043\n",
              "5831    10.1955\n",
              "5832    10.2719\n",
              "5833    10.2803\n",
              "Name: Price, dtype: float64"
            ]
          },
          "execution_count": 5,
          "metadata": {},
          "output_type": "execute_result"
        }
      ],
      "source": [
        "# lọc dữ liệu\n",
        "price_rice = df[(df['ProductName'] == 'Rice - Retail') & (df['Year'] == 2019)].Price\n",
        "price_rice"
      ]
    },
    {
      "cell_type": "code",
      "execution_count": 6,
      "metadata": {
        "colab": {
          "base_uri": "https://localhost:8080/"
        },
        "id": "jygeIkpxws4k",
        "outputId": "36faae3a-be8e-4832-a2c7-a47ef1419c54"
      },
      "outputs": [
        {
          "data": {
            "text/plain": [
              "TtestResult(statistic=-1.1854023812590566, pvalue=0.24181730968913573, df=47)"
            ]
          },
          "execution_count": 6,
          "metadata": {},
          "output_type": "execute_result"
        }
      ],
      "source": [
        "# kiểm định giả thuyết: giá gạo trung bình có bằng 9.5 không\n",
        "# H0: =9.5\n",
        "# H1: khác 9.5\n",
        "\n",
        "# stats: statistics\n",
        "# ttest: 1 sample\n",
        "stats.ttest_1samp(price_rice, 9.5)"
      ]
    },
    {
      "cell_type": "code",
      "execution_count": 7,
      "metadata": {
        "id": "IXv2qjsrxiH4"
      },
      "outputs": [],
      "source": [
        "# 0.24 > 0.05\n",
        "# không thể bác bỏ giả thuyết Không: =9.5\n",
        "# không đủ chứng cứ để có thể bác bỏ giả thuyết rằng giá gạo = 9.5"
      ]
    },
    {
      "cell_type": "markdown",
      "metadata": {
        "id": "liodJLeVyF57"
      },
      "source": [
        "Kiểm định giả thuyết: Giá bột mỳ và giá gạo ở Turkey năm 2019 là bằng nhau"
      ]
    },
    {
      "cell_type": "code",
      "execution_count": 8,
      "metadata": {
        "id": "fh9KMvKFyJZO"
      },
      "outputs": [],
      "source": [
        "# tìm giá bột mỳ ở turkey năm 2019 \"Wheat flour - Retail\"\n",
        "price_wheat = df[(df['ProductName'] == 'Wheat flour - Retail') & (df['Year'] == 2019)].Price\n",
        "# tìm giá bột gạo ở turkey năm 2019\n",
        "price_rice = df[(df['ProductName'] == 'Rice - Retail') & (df['Year'] == 2019)].Price"
      ]
    },
    {
      "cell_type": "code",
      "execution_count": 9,
      "metadata": {
        "colab": {
          "base_uri": "https://localhost:8080/"
        },
        "id": "Ugut7fZtzOxp",
        "outputId": "35ca72a3-0882-4469-c059-3949627e4b24"
      },
      "outputs": [
        {
          "data": {
            "text/plain": [
              "TtestResult(statistic=53.751692036304206, pvalue=7.110465285860583e-55, df=63.83639804430086)"
            ]
          },
          "execution_count": 9,
          "metadata": {},
          "output_type": "execute_result"
        }
      ],
      "source": [
        "# H0: price_rice - price_wheat = 0\n",
        "# H1: price_rice - price_wheat khác 0\n",
        "stats.ttest_ind(price_rice, price_wheat, equal_var=False)"
      ]
    },
    {
      "cell_type": "code",
      "execution_count": null,
      "metadata": {
        "colab": {
          "base_uri": "https://localhost:8080/"
        },
        "id": "bLDCblB1zmOh",
        "outputId": "b560c282-a717-4d73-e07c-8a5e93dcb727"
      },
      "outputs": [
        {
          "data": {
            "text/plain": [
              "1e-55"
            ]
          },
          "execution_count": 15,
          "metadata": {},
          "output_type": "execute_result"
        }
      ],
      "source": [
        "0.00000000 ....711 < 0.05"
      ]
    },
    {
      "cell_type": "code",
      "execution_count": 10,
      "metadata": {
        "id": "qnffyvrbzwI2"
      },
      "outputs": [],
      "source": [
        "# Đủ bằng chứng để bác bỏ giả thuyết không\n",
        "# Có thể kết luận giá bột mỳ và giá gạo ở Turkey năm 2019 là khác nhau"
      ]
    },
    {
      "cell_type": "markdown",
      "metadata": {
        "id": "33urzesV0Ml7"
      },
      "source": [
        "Vẽ biểu đồ sự biến đổi giá gạo trung bình từ năm 1/2014 đến năm 1/2019"
      ]
    },
    {
      "cell_type": "code",
      "execution_count": 11,
      "metadata": {
        "colab": {
          "base_uri": "https://localhost:8080/",
          "height": 269
        },
        "id": "rNwWPiUS0In_",
        "outputId": "9ac60c69-ee45-4581-e75a-6702c5b47d52"
      },
      "outputs": [
        {
          "data": {
            "text/html": [
              "<div>\n",
              "<style scoped>\n",
              "    .dataframe tbody tr th:only-of-type {\n",
              "        vertical-align: middle;\n",
              "    }\n",
              "\n",
              "    .dataframe tbody tr th {\n",
              "        vertical-align: top;\n",
              "    }\n",
              "\n",
              "    .dataframe thead th {\n",
              "        text-align: right;\n",
              "    }\n",
              "</style>\n",
              "<table border=\"1\" class=\"dataframe\">\n",
              "  <thead>\n",
              "    <tr style=\"text-align: right;\">\n",
              "      <th></th>\n",
              "      <th>Year</th>\n",
              "      <th>Price</th>\n",
              "    </tr>\n",
              "  </thead>\n",
              "  <tbody>\n",
              "    <tr>\n",
              "      <th>0</th>\n",
              "      <td>2013</td>\n",
              "      <td>4.747700</td>\n",
              "    </tr>\n",
              "    <tr>\n",
              "      <th>1</th>\n",
              "      <td>2014</td>\n",
              "      <td>6.367855</td>\n",
              "    </tr>\n",
              "    <tr>\n",
              "      <th>2</th>\n",
              "      <td>2015</td>\n",
              "      <td>6.426833</td>\n",
              "    </tr>\n",
              "    <tr>\n",
              "      <th>3</th>\n",
              "      <td>2016</td>\n",
              "      <td>6.047500</td>\n",
              "    </tr>\n",
              "    <tr>\n",
              "      <th>4</th>\n",
              "      <td>2017</td>\n",
              "      <td>7.164792</td>\n",
              "    </tr>\n",
              "    <tr>\n",
              "      <th>5</th>\n",
              "      <td>2018</td>\n",
              "      <td>8.640444</td>\n",
              "    </tr>\n",
              "    <tr>\n",
              "      <th>6</th>\n",
              "      <td>2019</td>\n",
              "      <td>9.384565</td>\n",
              "    </tr>\n",
              "  </tbody>\n",
              "</table>\n",
              "</div>"
            ],
            "text/plain": [
              "   Year     Price\n",
              "0  2013  4.747700\n",
              "1  2014  6.367855\n",
              "2  2015  6.426833\n",
              "3  2016  6.047500\n",
              "4  2017  7.164792\n",
              "5  2018  8.640444\n",
              "6  2019  9.384565"
            ]
          },
          "execution_count": 11,
          "metadata": {},
          "output_type": "execute_result"
        }
      ],
      "source": [
        "rice = df[df['ProductName'] == 'Rice - Retail']\n",
        "df1 = rice.groupby('Year')['Price'].mean().reset_index()\n",
        "df1"
      ]
    },
    {
      "cell_type": "code",
      "execution_count": 12,
      "metadata": {
        "colab": {
          "base_uri": "https://localhost:8080/",
          "height": 448
        },
        "id": "e3Xrnj2k2_dA",
        "outputId": "65926ea1-67cf-440e-b771-8f8babb5197e"
      },
      "outputs": [
        {
          "data": {
            "text/plain": [
              "[<matplotlib.lines.Line2D at 0x13f9e23d0>]"
            ]
          },
          "execution_count": 12,
          "metadata": {},
          "output_type": "execute_result"
        },
        {
          "data": {
            "image/png": "[encoded data removed]",
            "text/plain": [
              "<Figure size 640x480 with 1 Axes>"
            ]
          },
          "metadata": {},
          "output_type": "display_data"
        }
      ],
      "source": [
        "plt.plot(df1['Year'], df1['Price'])"
      ]
    },
    {
      "cell_type": "code",
      "execution_count": 13,
      "metadata": {},
      "outputs": [
        {
          "data": {
            "text/plain": [
              "array(['Rice - Retail', 'Wheat flour - Retail', 'Beans (white) - Retail',\n",
              "       'Potatoes - Retail', 'Eggs - Retail', 'Meat (chicken) - Retail',\n",
              "       'Sugar - Retail', 'Garlic - Retail', 'Lentils - Retail',\n",
              "       'Pasta - Retail', 'Tomatoes - Retail',\n",
              "       'Groundnuts (shelled) - Retail', 'Bread (common) - Retail',\n",
              "       'Coffee - Retail', 'Onions - Retail', 'Tea (green) - Retail',\n",
              "       'Cabbage - Retail', 'Meat (mutton) - Retail',\n",
              "       'Oil (sunflower) - Retail', 'Salt - Retail',\n",
              "       'Coffee (instant) - Retail', 'Peas (green, dry) - Retail',\n",
              "       'Apples (red) - Retail', 'Cauliflower - Retail',\n",
              "       'Cucumbers (greenhouse) - Retail', 'Oil (olive) - Retail',\n",
              "       'Chickpeas - Retail', 'Bananas - Retail', 'Bulgur - Retail',\n",
              "       'Tea - Retail', 'Fuel (petrol-gasoline) - Retail',\n",
              "       'Transport (public) - Retail', 'Tomatoes (paste) - Retail',\n",
              "       'Fuel (gas) - Retail', 'Apples - Retail', 'Oranges - Retail',\n",
              "       'Yogurt - Retail', 'Bread (pita) - Retail', 'Cucumbers - Retail',\n",
              "       'Fish (fresh) - Retail', 'Spinach - Retail', 'Cheese - Retail',\n",
              "       'Meat (veal) - Retail', 'Eggplants - Retail',\n",
              "       'Milk (powder, infant formula) - Retail', 'Zucchini - Retail',\n",
              "       'Milk (pasteurized) - Retail',\n",
              "       'Wage (non-qualified labour, non-agricultural) - Retail',\n",
              "       'Electricity - Retail', 'Tea (herbal) - Retail', 'Water - Retail',\n",
              "       'Cocoa (powder) - Retail'], dtype=object)"
            ]
          },
          "execution_count": 13,
          "metadata": {},
          "output_type": "execute_result"
        }
      ],
      "source": [
        "df['ProductName'].unique()"
      ]
    },
    {
      "cell_type": "code",
      "execution_count": 14,
      "metadata": {
        "id": "83tc7YoJ3HgR"
      },
      "outputs": [
        {
          "data": {
            "text/plain": [
              "[<matplotlib.lines.Line2D at 0x13fa474d0>]"
            ]
          },
          "execution_count": 14,
          "metadata": {},
          "output_type": "execute_result"
        },
        {
          "data": {
            "image/png": "[encoded data removed]",
            "text/plain": [
              "<Figure size 640x480 with 1 Axes>"
            ]
          },
          "metadata": {},
          "output_type": "display_data"
        }
      ],
      "source": [
        "# vẽ biểu đồ mô tả sự thay đổi của giá cà phê theo năm\n",
        "df2 =df[df['ProductName'] == 'Coffee (instant) - Retail'].groupby('Year')['Price'].mean().reset_index()\n",
        "plt.plot(df2['Year'], df2['Price'])\n",
        "# vẽ biểu mô tả sự thay đổi của giá trà theo năm"
      ]
    },
    {
      "cell_type": "code",
      "execution_count": 15,
      "metadata": {},
      "outputs": [
        {
          "data": {
            "text/plain": [
              "[<matplotlib.lines.Line2D at 0x13fb2f350>]"
            ]
          },
          "execution_count": 15,
          "metadata": {},
          "output_type": "execute_result"
        },
        {
          "data": {
            "image/png": "[encoded data removed]",
            "text/plain": [
              "<Figure size 640x480 with 1 Axes>"
            ]
          },
          "metadata": {},
          "output_type": "display_data"
        }
      ],
      "source": [
        "# vẽ biểu mô tả sự thay đổi của giá trà theo năm\n",
        "df3 =df[df['ProductName'] == 'Tea - Retail'].groupby('Year')['Price'].mean().reset_index()\n",
        "plt.plot(df3['Year'], df3['Price'])"
      ]
    },
    {
      "cell_type": "code",
      "execution_count": null,
      "metadata": {},
      "outputs": [],
      "source": []
    }
  ],
  "metadata": {
    "colab": {
      "provenance": []
    },
    "kernelspec": {
      "display_name": "Python 3",
      "name": "python3"
    },
    "language_info": {
      "codemirror_mode": {
        "name": "ipython",
        "version": 3
      },
      "file_extension": ".py",
      "mimetype": "text/x-python",
      "name": "python",
      "nbconvert_exporter": "python",
      "pygments_lexer": "ipython3",
      "version": "3.11.5"
    }
  },
  "nbformat": 4,
  "nbformat_minor": 0
}
